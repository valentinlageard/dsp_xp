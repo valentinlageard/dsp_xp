{
 "cells": [
  {
   "cell_type": "code",
   "execution_count": null,
   "metadata": {},
   "outputs": [],
   "source": [
    "import pyo\n",
    "from pyosc import WSine, WSaw, WSquare, WTri"
   ]
  },
  {
   "cell_type": "code",
   "execution_count": null,
   "metadata": {},
   "outputs": [],
   "source": [
    "# Setup server\n",
    "sr = 22050\n",
    "s = pyo.Server(sr=sr)\n",
    "s.boot()\n",
    "s.start()"
   ]
  },
  {
   "cell_type": "code",
   "execution_count": null,
   "metadata": {},
   "outputs": [],
   "source": [
    "# Create an instance of each oscillator controlled by MIDI and mix them in a selector\n",
    "notein = pyo.Notein(poly=1, scale=1)\n",
    "freq = notein['pitch']\n",
    "select_ctrl = pyo.Sig(0)\n",
    "sine = WSine(freq, samplerate=sr, mul=0.75)\n",
    "tri = WTri(freq, samplerate=sr, mul=0.75)\n",
    "square = WSquare(freq, samplerate=sr, mul=0.75)\n",
    "saw = WSaw(freq, samplerate=sr, mul=0.75)\n",
    "selector = pyo.Selector([sine, tri, square, saw], select_ctrl * 4, mul=0.7).out()"
   ]
  },
  {
   "cell_type": "code",
   "execution_count": null,
   "metadata": {},
   "outputs": [],
   "source": [
    "sc = pyo.Scope([selector])\n",
    "sp = pyo.Spectrum(selector)\n",
    "notein.keyboard()\n",
    "select_ctrl.ctrl(title=\"Osc selection\")\n",
    "s.gui(locals())"
   ]
  }
 ],
 "metadata": {
  "kernelspec": {
   "display_name": "Python 3",
   "language": "python",
   "name": "python3"
  },
  "language_info": {
   "codemirror_mode": {
    "name": "ipython",
    "version": 3
   },
   "file_extension": ".py",
   "mimetype": "text/x-python",
   "name": "python",
   "nbconvert_exporter": "python",
   "pygments_lexer": "ipython3",
   "version": "3.6.9"
  }
 },
 "nbformat": 4,
 "nbformat_minor": 2
}
