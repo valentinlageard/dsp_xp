{
 "cells": [
  {
   "cell_type": "code",
   "execution_count": null,
   "metadata": {},
   "outputs": [],
   "source": [
    "import pyo\n",
    "import random\n",
    "from pyosc import WSaw"
   ]
  },
  {
   "cell_type": "code",
   "execution_count": null,
   "metadata": {
    "scrolled": true
   },
   "outputs": [],
   "source": [
    "# Setup server\n",
    "s = pyo.Server(sr=22050)\n",
    "s.boot()\n",
    "s.start()"
   ]
  },
  {
   "cell_type": "code",
   "execution_count": null,
   "metadata": {
    "scrolled": true
   },
   "outputs": [],
   "source": [
    "# Create 7 saws around a central MIDI pitch and allow to control their detune\n",
    "notein = pyo.Notein(poly=1, scale=1)\n",
    "freq = notein['pitch']\n",
    "detune = pyo.Sig(0)\n",
    "mix_mul = pyo.Sig(0.4)\n",
    "\n",
    "saw1 = WSaw(freq - freq * detune * 0.5, phase=random.random(), samplerate=22050)\n",
    "saw2 = WSaw(freq - freq * detune * 0.3, phase=random.random(), samplerate=22050)\n",
    "saw3 = WSaw(freq - freq * detune * 0.1, phase=random.random(), samplerate=22050)\n",
    "saw4 = WSaw(freq, phase=random.random(), samplerate=22050)\n",
    "saw5 = WSaw(freq + freq * detune * 0.1, phase=random.random(), samplerate=22050)\n",
    "saw6 = WSaw(freq + freq * detune * 0.3, phase=random.random(), samplerate=22050)\n",
    "saw7 = WSaw(freq + freq * detune * 0.5, phase=random.random(), samplerate=22050)\n",
    "\n",
    "mix = pyo.Tanh(pyo.Mix([saw1, saw2, saw3, saw4, saw5, saw6, saw7], mul=mix_mul)).out()"
   ]
  },
  {
   "cell_type": "code",
   "execution_count": null,
   "metadata": {},
   "outputs": [],
   "source": [
    "# Viewing and control utilities\n",
    "sc = pyo.Scope(mix)\n",
    "sp = pyo.Spectrum(mix)\n",
    "notein.keyboard()\n",
    "detune.ctrl(title=\"detune\")\n",
    "mix_mul.ctrl(title=\"gain\")"
   ]
  },
  {
   "cell_type": "code",
   "execution_count": null,
   "metadata": {},
   "outputs": [],
   "source": [
    "# Launch gui\n",
    "s.gui(locals())"
   ]
  },
  {
   "cell_type": "code",
   "execution_count": null,
   "metadata": {},
   "outputs": [],
   "source": []
  }
 ],
 "metadata": {
  "kernelspec": {
   "display_name": "Python 3",
   "language": "python",
   "name": "python3"
  },
  "language_info": {
   "codemirror_mode": {
    "name": "ipython",
    "version": 3
   },
   "file_extension": ".py",
   "mimetype": "text/x-python",
   "name": "python",
   "nbconvert_exporter": "python",
   "pygments_lexer": "ipython3",
   "version": "3.6.9"
  }
 },
 "nbformat": 4,
 "nbformat_minor": 2
}
