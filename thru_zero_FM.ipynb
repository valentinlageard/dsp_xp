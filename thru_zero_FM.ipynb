{
 "cells": [
  {
   "cell_type": "code",
   "execution_count": null,
   "metadata": {},
   "outputs": [],
   "source": [
    "import pyo\n",
    "from pyosc import WSine, WSaw, WSquare, WTri"
   ]
  },
  {
   "cell_type": "code",
   "execution_count": null,
   "metadata": {},
   "outputs": [],
   "source": [
    "# Setup server\n",
    "sr = 22050\n",
    "s = pyo.Server(sr=sr)\n",
    "s.boot()\n",
    "s.start()"
   ]
  },
  {
   "cell_type": "code",
   "execution_count": null,
   "metadata": {},
   "outputs": [],
   "source": [
    "notein = pyo.Notein(poly=1, scale=1)\n",
    "freq = notein['pitch']\n",
    "\n",
    "# Create mod amplitude control and selectors controls\n",
    "mod_amp = pyo.Sig(0.1, mul=5000)\n",
    "mod_sel_ctrl = pyo.Sig(0, mul=3)\n",
    "osc_sel_ctrl = pyo.Sig(0, mul=3)\n",
    "\n",
    "# Create 4 modulators and mix them in a selector\n",
    "mod1 = pyo.Sine(freq) # Sine\n",
    "mod2 = pyo.LFO(freq, type=3) # Triangle\n",
    "mod3 = pyo.LFO(freq, type=2) # Square\n",
    "mod4 = pyo.LFO(freq, type=1) # Saw\n",
    "mod_sel = pyo.Selector([mod1, mod2, mod3, mod4], mod_sel_ctrl, mul=0.7)\n",
    "\n",
    "# Create 4 carriers controlled by freq and the mods and mix them in a selector\n",
    "osc1 = WSine(freq + mod_sel * mod_amp, samplerate=sr)\n",
    "osc2 = WTri(freq + mod_sel * mod_amp, samplerate=sr)\n",
    "osc3 = WSquare(freq + mod_sel * mod_amp, samplerate=sr)\n",
    "osc4 = WSaw(freq + mod_sel * mod_amp, samplerate=sr)\n",
    "osc_sel = pyo.Selector([osc1, osc2, osc3, osc4], osc_sel_ctrl, mul=0.7)\n",
    "\n",
    "# Compress and output\n",
    "comp = pyo.Tanh(osc_sel).out()"
   ]
  },
  {
   "cell_type": "code",
   "execution_count": null,
   "metadata": {},
   "outputs": [],
   "source": [
    "# Utilities and controls\n",
    "sc = pyo.Scope([comp, mod_sel])\n",
    "sp = pyo.Spectrum(comp)\n",
    "mod_amp.ctrl(title=\"Modulation amplitude\")\n",
    "mod_sel_ctrl.ctrl(title=\"Modulator selection\")\n",
    "osc_sel_ctrl.ctrl(title=\"Carrier selection\")\n",
    "notein.keyboard()"
   ]
  },
  {
   "cell_type": "code",
   "execution_count": null,
   "metadata": {},
   "outputs": [],
   "source": [
    "# Launch gui\n",
    "s.gui(locals())"
   ]
  },
  {
   "cell_type": "code",
   "execution_count": null,
   "metadata": {},
   "outputs": [],
   "source": []
  }
 ],
 "metadata": {
  "kernelspec": {
   "display_name": "Python 3",
   "language": "python",
   "name": "python3"
  },
  "language_info": {
   "codemirror_mode": {
    "name": "ipython",
    "version": 3
   },
   "file_extension": ".py",
   "mimetype": "text/x-python",
   "name": "python",
   "nbconvert_exporter": "python",
   "pygments_lexer": "ipython3",
   "version": "3.6.9"
  }
 },
 "nbformat": 4,
 "nbformat_minor": 2
}
